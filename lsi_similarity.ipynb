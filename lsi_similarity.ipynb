{
 "cells": [
  {
   "cell_type": "code",
   "execution_count": 9,
   "metadata": {},
   "outputs": [],
   "source": [
    "from gensim import corpora, models, similarities\n",
    "import scipy"
   ]
  },
  {
   "cell_type": "code",
   "execution_count": 3,
   "metadata": {},
   "outputs": [],
   "source": [
    "dictionary = corpora.Dictionary.load('datadump/lsi_data/train.dict')\n",
    "corpus = corpora.MmCorpus('datadump/lsi_data/train_corpora.mm')"
   ]
  },
  {
   "cell_type": "code",
   "execution_count": 4,
   "metadata": {},
   "outputs": [
    {
     "name": "stdout",
     "output_type": "stream",
     "text": [
      "MmCorpus(354748 documents, 20143 features, 1450041 non-zero entries)\n"
     ]
    }
   ],
   "source": [
    "print(corpus)"
   ]
  },
  {
   "cell_type": "code",
   "execution_count": 5,
   "metadata": {},
   "outputs": [],
   "source": [
    "# lsi = models.LsiModel(corpus, id2word=dictionary, num_topics=300)"
   ]
  },
  {
   "cell_type": "code",
   "execution_count": 32,
   "metadata": {},
   "outputs": [],
   "source": [
    "# lsi.save(\"datadump/lsi_data/lsi_model\")  "
   ]
  },
  {
   "cell_type": "code",
   "execution_count": null,
   "metadata": {},
   "outputs": [],
   "source": [
    "loaded_model = models.LsiModel.load(\"datadump/lsi_data/lsi_model\")"
   ]
  },
  {
   "cell_type": "code",
   "execution_count": 22,
   "metadata": {},
   "outputs": [],
   "source": [
    "def get_lsi_vector(sentence,dict_lsi,lsi_model):\n",
    "    vec_bow1 = dict_lsi.doc2bow(sentence.lower().split())\n",
    "    vec_lsi1 = lsi_model[vec_bow1]\n",
    "    return  [ k[1] for k in vec_lsi1]"
   ]
  },
  {
   "cell_type": "code",
   "execution_count": 79,
   "metadata": {},
   "outputs": [],
   "source": [
    "def get_lsi_cosine(s1,s2):\n",
    "    dist_comp = scipy.spatial.distance.cosine(get_lsi_vector(s1,dictionary,lsi),get_lsi_vector(s2,dictionary,lsi))\n",
    "    if dist_comp <=1.0 and dist_comp>=0.0:\n",
    "        return dist_comp\n",
    "    return 1.0"
   ]
  },
  {
   "cell_type": "code",
   "execution_count": 68,
   "metadata": {},
   "outputs": [],
   "source": [
    "doc1 = \"how do i become a good data scientist\"\n",
    " # convert the query to LSI space\n",
    "doc2 = \"how to become good machine learning engineer\""
   ]
  },
  {
   "cell_type": "code",
   "execution_count": 69,
   "metadata": {},
   "outputs": [],
   "source": [
    "# scipy.spatial.distance.cosine(get_lsi_vector(doc1,dictionary,lsi),get_lsi_vector(doc2,dictionary,lsi))"
   ]
  },
  {
   "cell_type": "code",
   "execution_count": 70,
   "metadata": {},
   "outputs": [],
   "source": [
    "import csv"
   ]
  },
  {
   "cell_type": "code",
   "execution_count": 80,
   "metadata": {},
   "outputs": [],
   "source": [
    "sim_score_true = []\n",
    "sim_score_false = []\n",
    "with open('datadump/lsi_data/train.csv' ,\"r\") as csv_file:\n",
    "    reader = csv.DictReader(csv_file)\n",
    "    for row in reader:\n",
    "        q1 = row[\"question1\"]\n",
    "        q2 = row[\"question2\"]\n",
    "        is_dup = row[\"is_duplicate\"]\n",
    "        try:\n",
    "            sim_scr = get_lsi_cosine(q1,q2)\n",
    "            if is_dup == '0':\n",
    "                sim_score_false.append(sim_scr)\n",
    "            elif is_dup == '1':\n",
    "                sim_score_true.append(sim_scr)\n",
    "        except:\n",
    "            #print(q1)\n",
    "            #print(q2)\n",
    "            continue\n",
    "        "
   ]
  },
  {
   "cell_type": "code",
   "execution_count": 81,
   "metadata": {},
   "outputs": [
    {
     "data": {
      "text/plain": [
       "(88421, 148585)"
      ]
     },
     "execution_count": 81,
     "metadata": {},
     "output_type": "execute_result"
    }
   ],
   "source": [
    "len(sim_score_true), len(sim_score_false)"
   ]
  },
  {
   "cell_type": "code",
   "execution_count": 96,
   "metadata": {},
   "outputs": [],
   "source": [
    "def get_ave(ls):\n",
    "    return sum(ls)*1.0/len(ls)"
   ]
  },
  {
   "cell_type": "code",
   "execution_count": 97,
   "metadata": {},
   "outputs": [],
   "source": [
    "thresh_ = get_ave( [ get_ave(sim_score_true),get_ave(sim_score_false)] )"
   ]
  },
  {
   "cell_type": "code",
   "execution_count": 98,
   "metadata": {},
   "outputs": [
    {
     "data": {
      "text/plain": [
       "0.4797853006671452"
      ]
     },
     "execution_count": 98,
     "metadata": {},
     "output_type": "execute_result"
    }
   ],
   "source": [
    "thresh_"
   ]
  },
  {
   "cell_type": "code",
   "execution_count": null,
   "metadata": {},
   "outputs": [],
   "source": []
  },
  {
   "cell_type": "code",
   "execution_count": 99,
   "metadata": {},
   "outputs": [],
   "source": [
    "res_ = []\n",
    "with open('datadump/lsi_data/test.csv' ,\"r\") as csv_file:\n",
    "    reader = csv.DictReader(csv_file)\n",
    "    for row in reader:\n",
    "        q1 = row[\"question1\"]\n",
    "        q2 = row[\"question2\"]\n",
    "        is_dup =  row[\"is_duplicate\"]=='1' \n",
    "        is_dup_pred = False\n",
    "        try:\n",
    "            sim_scr = get_lsi_cosine(q1,q2)\n",
    "            is_dup_pred = sim_scr<thresh_\n",
    "        except:\n",
    "            is_dup_pred = False\n",
    "        if is_dup == is_dup_pred:\n",
    "            res_.append(1)\n",
    "        else:\n",
    "            res_.append(0)"
   ]
  },
  {
   "cell_type": "code",
   "execution_count": 113,
   "metadata": {},
   "outputs": [
    {
     "name": "stdout",
     "output_type": "stream",
     "text": [
      "accuracy : 0.6466973886328725\n"
     ]
    }
   ],
   "source": [
    "print(\"accuracy :\",sum(res_)/len(res_))"
   ]
  },
  {
   "cell_type": "code",
   "execution_count": 108,
   "metadata": {},
   "outputs": [],
   "source": [
    "is_dup_l = []\n",
    "with open('datadump/lsi_data/test.csv' ,\"r\") as csv_file:\n",
    "    reader = csv.DictReader(csv_file)\n",
    "    for row in reader:\n",
    "        is_dup =  0.0\n",
    "        if row[\"is_duplicate\"]=='1':\n",
    "            is_dup =  1.0\n",
    "        is_dup_l.append(is_dup)"
   ]
  },
  {
   "cell_type": "code",
   "execution_count": 112,
   "metadata": {},
   "outputs": [
    {
     "data": {
      "text/plain": [
       "0.6284376393637581"
      ]
     },
     "execution_count": 112,
     "metadata": {},
     "output_type": "execute_result"
    }
   ],
   "source": [
    "1-get_ave(is_dup_l)"
   ]
  },
  {
   "cell_type": "code",
   "execution_count": null,
   "metadata": {},
   "outputs": [],
   "source": []
  }
 ],
 "metadata": {
  "kernelspec": {
   "display_name": "Python 3",
   "language": "python",
   "name": "python3"
  },
  "language_info": {
   "codemirror_mode": {
    "name": "ipython",
    "version": 3
   },
   "file_extension": ".py",
   "mimetype": "text/x-python",
   "name": "python",
   "nbconvert_exporter": "python",
   "pygments_lexer": "ipython3",
   "version": "3.4.1"
  }
 },
 "nbformat": 4,
 "nbformat_minor": 2
}
