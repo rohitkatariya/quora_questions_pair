{
 "cells": [
  {
   "cell_type": "code",
   "execution_count": 1,
   "metadata": {},
   "outputs": [],
   "source": [
    "import libraries.stringFunctions\n",
    "from libraries.csvFunctions import readCsvToDictList\n",
    "import re\n",
    "from gensim.models import Word2Vec"
   ]
  },
  {
   "cell_type": "code",
   "execution_count": 2,
   "metadata": {},
   "outputs": [],
   "source": [
    "datadump_dir = \"/home/rohit.katariya/rohit/sentence_classification/datadump/\""
   ]
  },
  {
   "cell_type": "code",
   "execution_count": 3,
   "metadata": {},
   "outputs": [],
   "source": [
    "def get_all_sentences(filename):\n",
    "    read_data = readCsvToDictList(filename)\n",
    "    questions_dict = {}\n",
    "    for row in read_data:\n",
    "        questions_dict[row[\"qid1\"]] = re.sub('([.,!?()])', r' \\1 ', row[\"question1\"]).lower().split()\n",
    "        questions_dict[row[\"qid2\"]] = re.sub('([.,!?()])', r' \\1 ', row[\"question1\"]).lower().split()\n",
    "    return list(questions_dict.values())"
   ]
  },
  {
   "cell_type": "code",
   "execution_count": 4,
   "metadata": {},
   "outputs": [],
   "source": [
    "sentences_got =get_all_sentences(datadump_dir + \"train.csv\")"
   ]
  },
  {
   "cell_type": "code",
   "execution_count": 6,
   "metadata": {},
   "outputs": [],
   "source": [
    "model = Word2Vec(sentences_got, size=50, window=5, min_count=1, workers=40)"
   ]
  },
  {
   "cell_type": "code",
   "execution_count": 7,
   "metadata": {},
   "outputs": [],
   "source": [
    "model.save(datadump_dir + 'embeddings_all_questions.bin')"
   ]
  },
  {
   "cell_type": "code",
   "execution_count": null,
   "metadata": {},
   "outputs": [],
   "source": []
  }
 ],
 "metadata": {
  "kernelspec": {
   "display_name": "Python 3",
   "language": "python",
   "name": "python3"
  },
  "language_info": {
   "codemirror_mode": {
    "name": "ipython",
    "version": 3
   },
   "file_extension": ".py",
   "mimetype": "text/x-python",
   "name": "python",
   "nbconvert_exporter": "python",
   "pygments_lexer": "ipython3",
   "version": "3.4.1"
  }
 },
 "nbformat": 4,
 "nbformat_minor": 2
}
